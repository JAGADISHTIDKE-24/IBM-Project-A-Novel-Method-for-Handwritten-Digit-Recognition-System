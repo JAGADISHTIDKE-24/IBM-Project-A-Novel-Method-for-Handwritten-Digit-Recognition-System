{
  "nbformat": 4,
  "nbformat_minor": 0,
  "metadata": {
    "colab": {
      "provenance": [],
      "collapsed_sections": []
    },
    "kernelspec": {
      "name": "python3",
      "display_name": "Python 3"
    },
    "language_info": {
      "name": "python"
    }
  },
  "cells": [
    {
      "cell_type": "code",
      "execution_count": 1,
      "metadata": {
        "colab": {
          "base_uri": "https://localhost:8080/"
        },
        "id": "ngwo3qIyioT8",
        "outputId": "bf649ad9-e1b9-41cb-8c34-c4dd6b277028"
      },
      "outputs": [
        {
          "output_type": "stream",
          "name": "stdout",
          "text": [
            "\u001b[0m\u001b[01;34mdrive\u001b[0m/  \u001b[01;34msample_data\u001b[0m/\n"
          ]
        }
      ],
      "source": [
        "ls"
      ]
    },
    {
      "cell_type": "code",
      "source": [
        "cd /content/drive/MyDrive/CNN"
      ],
      "metadata": {
        "colab": {
          "base_uri": "https://localhost:8080/"
        },
        "id": "Os59zRx3jD4A",
        "outputId": "5af67cc7-d6e1-40f1-a652-20073c348025"
      },
      "execution_count": 2,
      "outputs": [
        {
          "output_type": "stream",
          "name": "stdout",
          "text": [
            "/content/drive/MyDrive/CNN\n"
          ]
        }
      ]
    },
    {
      "cell_type": "code",
      "source": [
        "ls"
      ],
      "metadata": {
        "colab": {
          "base_uri": "https://localhost:8080/"
        },
        "id": "jCVwqL2OjWEq",
        "outputId": "efe43439-d420-416e-b201-a3a6c3578f38"
      },
      "execution_count": 3,
      "outputs": [
        {
          "output_type": "stream",
          "name": "stdout",
          "text": [
            "\u001b[0m\u001b[01;34mflowers\u001b[0m/  Flowers-Dataset.zip  flowers.h5\n"
          ]
        }
      ]
    },
    {
      "cell_type": "code",
      "source": [
        "!unzip Flowers-Dataset.zip "
      ],
      "metadata": {
        "colab": {
          "base_uri": "https://localhost:8080/"
        },
        "id": "b7DZvuv-jfhA",
        "outputId": "0c3830b3-9371-46d5-c3d0-5daa4737ed51"
      },
      "execution_count": 5,
      "outputs": [
        {
          "output_type": "stream",
          "name": "stdout",
          "text": [
            "Archive:  Flowers-Dataset.zip\n",
            "replace flowers/daisy/100080576_f52e8ee070_n.jpg? [y]es, [n]o, [A]ll, [N]one, [r]ename: N\n"
          ]
        }
      ]
    },
    {
      "cell_type": "code",
      "source": [
        "from tensorflow.keras.preprocessing.image import ImageDataGenerator"
      ],
      "metadata": {
        "id": "vFGcv40bj2Fo"
      },
      "execution_count": 22,
      "outputs": []
    },
    {
      "cell_type": "code",
      "source": [
        "train_datagen=ImageDataGenerator(rescale=1./255,horizontal_flip=True,vertical_flip=True)"
      ],
      "metadata": {
        "id": "aXdikt5tkxOs"
      },
      "execution_count": 23,
      "outputs": []
    },
    {
      "cell_type": "code",
      "source": [
        "test_datagen=ImageDataGenerator(rescale=1./255)"
      ],
      "metadata": {
        "id": "ub3aU01SlQl1"
      },
      "execution_count": 24,
      "outputs": []
    },
    {
      "cell_type": "code",
      "source": [
        "X_train=train_datagen.flow_from_directory(r\"/content/drive/MyDrive/CNN/flowers\",target_size=(64,64),class_mode=\"categorical\",batch_size=32)"
      ],
      "metadata": {
        "colab": {
          "base_uri": "https://localhost:8080/"
        },
        "id": "vEdbzjh5lmgg",
        "outputId": "93a7e5c4-1981-4cc7-cb9d-aee908e24228"
      },
      "execution_count": 38,
      "outputs": [
        {
          "output_type": "stream",
          "name": "stdout",
          "text": [
            "Found 4317 images belonging to 5 classes.\n"
          ]
        }
      ]
    },
    {
      "cell_type": "code",
      "source": [
        "X_test=test_datagen.flow_from_directory(r\"/content/drive/MyDrive/CNN/flowers\",target_size=(64,64),class_mode=\"categorical\",batch_size=32)"
      ],
      "metadata": {
        "colab": {
          "base_uri": "https://localhost:8080/"
        },
        "id": "D09BySVYmmzF",
        "outputId": "2d4323ed-e6f3-4aa5-c780-517aba1dea29"
      },
      "execution_count": 39,
      "outputs": [
        {
          "output_type": "stream",
          "name": "stdout",
          "text": [
            "Found 4317 images belonging to 5 classes.\n"
          ]
        }
      ]
    },
    {
      "cell_type": "code",
      "source": [
        "from tensorflow.keras.models import Sequential\n",
        "from tensorflow.keras.layers import Convolution2D,MaxPooling2D,Flatten,Dense\n"
      ],
      "metadata": {
        "id": "3vZtLIvlnHHW"
      },
      "execution_count": 28,
      "outputs": []
    },
    {
      "cell_type": "code",
      "source": [
        "model=Sequential()"
      ],
      "metadata": {
        "id": "mcI2r-TZoTLy"
      },
      "execution_count": 29,
      "outputs": []
    },
    {
      "cell_type": "code",
      "source": [
        "model.add(Convolution2D(32,(3,3),activation=\"relu\",input_shape=(64,64,3)))"
      ],
      "metadata": {
        "id": "lq343GTzoY4t"
      },
      "execution_count": 30,
      "outputs": []
    },
    {
      "cell_type": "code",
      "source": [
        "model.add(MaxPooling2D(pool_size=(2,2)))"
      ],
      "metadata": {
        "id": "ezpcs3Yqou1e"
      },
      "execution_count": 31,
      "outputs": []
    },
    {
      "cell_type": "code",
      "source": [
        "model.add(Flatten())"
      ],
      "metadata": {
        "id": "b1qeazVzpDLK"
      },
      "execution_count": 32,
      "outputs": []
    },
    {
      "cell_type": "code",
      "source": [
        "model.add(Dense(300,activation=\"relu\"))"
      ],
      "metadata": {
        "id": "oUpMrzifpJUR"
      },
      "execution_count": 33,
      "outputs": []
    },
    {
      "cell_type": "code",
      "source": [
        "model.add(Dense(5,activation=\"softmax\"))"
      ],
      "metadata": {
        "id": "NVzIZ5TgpWMb"
      },
      "execution_count": 34,
      "outputs": []
    },
    {
      "cell_type": "code",
      "source": [
        "model.compile(loss=\"categorical_crossentropy\",metrics=[\"accuracy\"],optimizer=\"adam\")"
      ],
      "metadata": {
        "id": "T5AMyylVp7JL"
      },
      "execution_count": 36,
      "outputs": []
    },
    {
      "cell_type": "code",
      "source": [
        "model.fit(X_train,epochs=5,validation_data=X_test,steps_per_epoch=len(X_train),validation_steps=len(X_test))"
      ],
      "metadata": {
        "colab": {
          "base_uri": "https://localhost:8080/"
        },
        "id": "cpvBIclJq7wK",
        "outputId": "d29d299c-06f6-4bdf-f9b7-e3925c18e97c"
      },
      "execution_count": 40,
      "outputs": [
        {
          "output_type": "stream",
          "name": "stdout",
          "text": [
            "Epoch 1/5\n",
            "135/135 [==============================] - 57s 421ms/step - loss: 0.7653 - accuracy: 0.7007 - val_loss: 0.6895 - val_accuracy: 0.7623\n",
            "Epoch 2/5\n",
            "135/135 [==============================] - 60s 444ms/step - loss: 0.7271 - accuracy: 0.7264 - val_loss: 0.6182 - val_accuracy: 0.7853\n",
            "Epoch 3/5\n",
            "135/135 [==============================] - 59s 435ms/step - loss: 0.6736 - accuracy: 0.7487 - val_loss: 0.6199 - val_accuracy: 0.7918\n",
            "Epoch 4/5\n",
            "135/135 [==============================] - 58s 433ms/step - loss: 0.6211 - accuracy: 0.7751 - val_loss: 0.5924 - val_accuracy: 0.8017\n",
            "Epoch 5/5\n",
            "135/135 [==============================] - 59s 439ms/step - loss: 0.5611 - accuracy: 0.7968 - val_loss: 0.5622 - val_accuracy: 0.7992\n"
          ]
        },
        {
          "output_type": "execute_result",
          "data": {
            "text/plain": [
              "<keras.callbacks.History at 0x7f31b3b1bc50>"
            ]
          },
          "metadata": {},
          "execution_count": 40
        }
      ]
    },
    {
      "cell_type": "code",
      "source": [
        "model.save(\"flowers.h5\")"
      ],
      "metadata": {
        "id": "aue4pYo_1_aX"
      },
      "execution_count": 41,
      "outputs": []
    },
    {
      "cell_type": "code",
      "source": [
        "from tensorflow.keras.models import load_model\n",
        "from tensorflow.keras.preprocessing import image\n",
        "import numpy as np"
      ],
      "metadata": {
        "id": "up7dbFgH2M_E"
      },
      "execution_count": 42,
      "outputs": []
    },
    {
      "cell_type": "code",
      "source": [
        "model=load_model(\"/content/drive/MyDrive/CNN/flowers.h5\")"
      ],
      "metadata": {
        "id": "a-jwQTiP2klX"
      },
      "execution_count": 43,
      "outputs": []
    },
    {
      "cell_type": "code",
      "source": [
        "img=image.load_img(\"/content/drive/MyDrive/CNN/flowers/rose/10503217854_e66a804309.jpg\",target_size=(64,64))"
      ],
      "metadata": {
        "id": "85k0aQFU24wh"
      },
      "execution_count": 44,
      "outputs": []
    },
    {
      "cell_type": "code",
      "source": [
        "img"
      ],
      "metadata": {
        "colab": {
          "base_uri": "https://localhost:8080/",
          "height": 81
        },
        "id": "Mc4Yp9P-4SXn",
        "outputId": "96fc00fe-ed22-4859-c9e5-af0487235974"
      },
      "execution_count": 45,
      "outputs": [
        {
          "output_type": "execute_result",
          "data": {
            "text/plain": [
              "<PIL.Image.Image image mode=RGB size=64x64 at 0x7F31B29001D0>"
            ],
            "image/png": "[encoded data removed]"
          },
          "metadata": {},
          "execution_count": 45
        }
      ]
    },
    {
      "cell_type": "code",
      "source": [
        "x=image.img_to_array(img)"
      ],
      "metadata": {
        "id": "sYDMSJ144Utl"
      },
      "execution_count": 46,
      "outputs": []
    },
    {
      "cell_type": "code",
      "source": [
        "x"
      ],
      "metadata": {
        "colab": {
          "base_uri": "https://localhost:8080/"
        },
        "id": "KWKtJ9cD4sa-",
        "outputId": "b2e60f70-ef52-4508-c6f4-64980e7ec3cc"
      },
      "execution_count": 47,
      "outputs": [
        {
          "output_type": "execute_result",
          "data": {
            "text/plain": [
              "array([[[  0.,   2.,   0.],\n",
              "        [  0.,   2.,   0.],\n",
              "        [  0.,   2.,   0.],\n",
              "        ...,\n",
              "        [ 92.,  14.,   0.],\n",
              "        [ 61.,  13.,   9.],\n",
              "        [ 17.,   7.,   5.]],\n",
              "\n",
              "       [[  0.,   2.,   0.],\n",
              "        [  0.,   2.,   0.],\n",
              "        [  0.,   2.,   0.],\n",
              "        ...,\n",
              "        [150.,   3.,   0.],\n",
              "        [ 85.,  10.,   7.],\n",
              "        [119.,   4.,   1.]],\n",
              "\n",
              "       [[  0.,   2.,   0.],\n",
              "        [  0.,   2.,   0.],\n",
              "        [  0.,   2.,   0.],\n",
              "        ...,\n",
              "        [ 88.,   9.,   0.],\n",
              "        [207.,   7.,  10.],\n",
              "        [152.,   0.,   0.]],\n",
              "\n",
              "       ...,\n",
              "\n",
              "       [[  0.,   4.,   0.],\n",
              "        [  1.,   3.,   0.],\n",
              "        [  0.,   2.,   0.],\n",
              "        ...,\n",
              "        [  2.,   2.,   4.],\n",
              "        [  0.,   2.,   5.],\n",
              "        [ 51.,  10.,   6.]],\n",
              "\n",
              "       [[  0.,   2.,   0.],\n",
              "        [  1.,   3.,   0.],\n",
              "        [  1.,   3.,   0.],\n",
              "        ...,\n",
              "        [  0.,   3.,   1.],\n",
              "        [  0.,   3.,   4.],\n",
              "        [  0.,   5.,   3.]],\n",
              "\n",
              "       [[  1.,   3.,   0.],\n",
              "        [  0.,   2.,   0.],\n",
              "        [  1.,   1.,   0.],\n",
              "        ...,\n",
              "        [ 29.,   5.,   1.],\n",
              "        [ 41.,  13.,   0.],\n",
              "        [  5.,   4.,   0.]]], dtype=float32)"
            ]
          },
          "metadata": {},
          "execution_count": 47
        }
      ]
    },
    {
      "cell_type": "code",
      "source": [
        "x.ndim\n"
      ],
      "metadata": {
        "colab": {
          "base_uri": "https://localhost:8080/"
        },
        "id": "RcdSFaJz4xCw",
        "outputId": "a663939a-afa5-435f-d34d-58feaedc0a6f"
      },
      "execution_count": 49,
      "outputs": [
        {
          "output_type": "execute_result",
          "data": {
            "text/plain": [
              "3"
            ]
          },
          "metadata": {},
          "execution_count": 49
        }
      ]
    },
    {
      "cell_type": "code",
      "source": [
        "x=np.expand_dims(x,axis=0)"
      ],
      "metadata": {
        "id": "8n3cNIcZ4_qr"
      },
      "execution_count": 50,
      "outputs": []
    },
    {
      "cell_type": "code",
      "source": [
        "x.ndim"
      ],
      "metadata": {
        "colab": {
          "base_uri": "https://localhost:8080/"
        },
        "id": "VKQBcSMK5LV4",
        "outputId": "fac0762d-9386-4894-ce20-8ce8114661b9"
      },
      "execution_count": 51,
      "outputs": [
        {
          "output_type": "execute_result",
          "data": {
            "text/plain": [
              "4"
            ]
          },
          "metadata": {},
          "execution_count": 51
        }
      ]
    },
    {
      "cell_type": "code",
      "source": [
        "pred=model.predict(x)"
      ],
      "metadata": {
        "colab": {
          "base_uri": "https://localhost:8080/"
        },
        "id": "Aj9w0vVZ5Ooy",
        "outputId": "300b50a2-3d95-4b3a-c28f-9f73f3183155"
      },
      "execution_count": 53,
      "outputs": [
        {
          "output_type": "stream",
          "name": "stdout",
          "text": [
            "1/1 [==============================] - 0s 145ms/step\n"
          ]
        }
      ]
    },
    {
      "cell_type": "code",
      "source": [
        "pred"
      ],
      "metadata": {
        "colab": {
          "base_uri": "https://localhost:8080/"
        },
        "id": "DuyO2Rbq5lTk",
        "outputId": "91ca8a5a-1043-4fbe-c16e-26457826a0f5"
      },
      "execution_count": 54,
      "outputs": [
        {
          "output_type": "execute_result",
          "data": {
            "text/plain": [
              "array([[0., 0., 1., 0., 0.]], dtype=float32)"
            ]
          },
          "metadata": {},
          "execution_count": 54
        }
      ]
    },
    {
      "cell_type": "code",
      "source": [
        "Label=['Display','Dndelion','Rose','Sunflower','Tulip']"
      ],
      "metadata": {
        "id": "hpLerLGL5o3y"
      },
      "execution_count": 55,
      "outputs": []
    },
    {
      "cell_type": "code",
      "source": [
        "Label[np.argmax(pred)]"
      ],
      "metadata": {
        "colab": {
          "base_uri": "https://localhost:8080/",
          "height": 35
        },
        "id": "6-3axhry6C_Y",
        "outputId": "9c8b814f-fabc-4d56-fdb9-cb48fb0c7cc6"
      },
      "execution_count": 56,
      "outputs": [
        {
          "output_type": "execute_result",
          "data": {
            "text/plain": [
              "'Rose'"
            ],
            "application/vnd.google.colaboratory.intrinsic+json": {
              "type": "string"
            }
          },
          "metadata": {},
          "execution_count": 56
        }
      ]
    }
  ]
}